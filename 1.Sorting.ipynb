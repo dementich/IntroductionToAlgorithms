{
 "cells": [
  {
   "cell_type": "markdown",
   "id": "cc062d27",
   "metadata": {},
   "source": [
    "# 1.Сортировка вставкой\n",
    "\n",
    "Этот алгоритм эффективно работает при сортировке небольшого количества элементов. Сортировка вставкой напоминает способ, к которому прибегают игроки для сортировки имеющихся на руках карт. Пусть в начале в левой руке нет ни одной карты и все они лежат на столе рубашкой вверх. Далее со стола берется по одной карте, каждая из которых помещается в нужное место среди карт, которые находятся в левой руке. Чтобы определить, куда нужно поместить очередную карту, ее масть и достоинство сравниваются с мастью и достоинством карт в руке. Таким образом в любой момент времени карты в левой руке будут отсортированы."
   ]
  },
  {
   "cell_type": "code",
   "execution_count": 1,
   "id": "77d9f853",
   "metadata": {},
   "outputs": [
    {
     "data": {
      "text/plain": [
       "[1, 2, 3, 4, 5, 6]"
      ]
     },
     "execution_count": 1,
     "metadata": {},
     "output_type": "execute_result"
    }
   ],
   "source": [
    "data: list[int] = [5, 2, 4, 6, 1, 3]\n",
    "def sort_insertion(data: list[int]) -> list[int]:\n",
    "    for i in range(1, len(data)):\n",
    "        key = data[i]\n",
    "        j = i\n",
    "        while j > 0 and data[j - 1] >= key:\n",
    "            j -= 1\n",
    "            data[j + 1] = data[j]\n",
    "        data[j] = key\n",
    "    return data\n",
    "sort_insertion(data)"
   ]
  },
  {
   "cell_type": "markdown",
   "id": "146f2591",
   "metadata": {},
   "source": [
    "При разработке алгоритма требуется понять, правильно ли он работает. Для этого используется такое понятие, как инвариант цикла. Инвариант цикла - это логическое выражение, обладающее следующими свойствами:\n",
    "\n",
    "1. Оно истинно перед первой итерацией цикла.  \n",
    "2. Если оно истинно перед очередной итерацией, то остается истинным и после нее.  \n",
    "3. По завершении цикла оно позволяет убедиться в правильности алгоритма. \n",
    "\n",
    "Теперь проведем анализ зависимости времени выполнения алгоритма сортировки вставкой $O$ от объема входных данных $n$. В нашем случае объем входных данных - это размер массива к сортировке.\n",
    "\n",
    "1. Корневой оператор `for` будет выполняться $n$ раз. Не $n-1$, а именно $n$, т.к. на самой последней итерации окажется, что счетчик `i` превышает значение `len(data)` на единицу. Пусть стоимость каждого шага равняется $c_1$. Тогда общая стоимость выполнения корневого оператора равняется $c_1n$\n",
    "\n",
    "```python\n",
    "for i in range(1, len(data)):\n",
    "    key = data[i]\n",
    "    j = i\n",
    "    while j > 0 and data[j - 1] >= key:\n",
    "        j -= 1\n",
    "        data[j + 1] = data[j]\n",
    "    data[j] = key\n",
    "```\n",
    "\n",
    "2. Первые 2 конструкции тела цикла будут выполнены `n-1` раз каждая. То есть, стоимость их выполнения равна $c_2(n-1) + c_3(n-1)$.\n",
    "\n",
    "```python\n",
    "key = data[i]\n",
    "j = i\n",
    "```\n",
    "\n",
    "3. Время выполнения оператора `while` зависит от длины левой части сортируемого массива (той, что всегда отсортирована). Понятно, что для каждого шага `i` она будет разной, поэтому обозначим ее длину как $m_i$. При этом внутренний цикл будет запускаться для $i \\in (2..n)$. Исходя из этого оператор `while` отработает $\\sum_{i=2}^n m_i$ раз, а общее время его работы составит $c_4\\sum_{i=2}^n m_i$.\n",
    "\n",
    "```python\n",
    "while j > 0 and data[j - 1] >= key:\n",
    "    j -= 1\n",
    "    data[j + 1] = data[j]\n",
    "```\n",
    "\n",
    "4. Время выполнения каждого из 2 внутренних операторов цикла `while` будет на одну итерацию `while` меньше, чем время выполнения цикла `while` и будет равняться $c_5\\sum_{i=2}^n (m_i-1)$ + $c_6\\sum_{i=2}^n (m_i-1)$.\n",
    "\n",
    "```python\n",
    "j -= 1\n",
    "data[j + 1] = data[j]\n",
    "```\n",
    "\n",
    "5. Время выполнения последнего оператора тела цикла `for` будет равняться $c_7(n-1)$.\n",
    "\n",
    "Итого, общее время выполнения алгоритма сортировки вставкой будет $T(n)$ равняться: \n",
    "$$T(n) = c_1n + c_2(n-1) + c_3(n-1) + c_4\\sum_{i=2}^n m_i + c_5\\sum_{i=2}^n (m_i-1) + c_6\\sum_{i=2}^n (m_i-1) + c_7(n-1)$$\n",
    "\n",
    "Важно также понимать, что время работы алгоритма зависит не только от объема входных данных, но и от их расположения. Очевидно, что для алгоритма сортировки по возрастанию наихудшей является ситуация, когда входные данные отсортированы по убыванию. В данном случае внутренний цикл будет каждый элемент справа от себя сравнивать со всеми элементами левой части и сохранять его на самую первую позицию отсортированного массива. Говоря иными словами, количество шагов внутреннего цикла `while` будет для каждого последующего шага внешнего цикла на единицу больше, чем для предыдущего шага. То есть количество шагов внутреннего цикла возрастает в виде арифметической прогрессии для каждого шага внешнего цикла. Суммарное же число шагов внутреннего цикла будет равняться сумме этой арифметической прогрессии и рассчитываться по формуле $$\\sum_{i=2}^{n} {i} = 1 + 2 + ... + n = \\frac{n(n+1)}{2}$$. В приложении к нашим реалиям это означает, что $$\\sum_{i=2}^{n} i =\\frac{n(n+1)}{2} - 1$$ и что \n",
    "$$\\sum_{i=2}^{n} (i - 1) =\\frac{n(n-1)}{2}$$\n",
    "Таким образом при наихудшем раскладе суммарное время выполнения $T(n)$ будет равняться:\n",
    "\n",
    "$$T(n) = c_1n + c_2(n-1) + c_3(n-1) + c_4(\\frac{n(n+1)}{2} - 1) + c_5(\\frac{n(n-1)}{2}) + c_6(\\frac{n(n-1)}{2}) + c_7(n-1)$$\n",
    "\n",
    "$$T(n) = c_1n + c_2n - c_2 + c_3n - c_3 + c_4(\\frac{n^2 + n}{2}) - c_4 + c_5(\\frac{n^2 - n}{2}) + c_6(\\frac{n^2 - n}{2}) + c_7n - c_7$$\n",
    "\n",
    "$$T(n) = c_1n + c_2n - c_2 + c_3n - c_3 + \\frac{c_4n^2}{2} + \\frac{c_4n}{2} - c_4 + \\frac{c_5n^2}{2} - \\frac{c_5n}{2} + \\frac{c_6n^2}{2} - \\frac{c_6n}{2} + c_7n - c_7$$\n",
    "\n",
    "$$T(n) = (\\frac{c_4}{2} + \\frac{c_5}{2} + \\frac{c_6}{2})n^2 + (c_1 + c_2 + c_3 + c_7 + \\frac{c_4}{2} - \\frac{c_5}{2} - \\frac{c_6}{2})n - (c_2 + c_3 + c_4 + c_7)$$\n",
    "\n",
    "$$T(n) = an^2 + bn + c$$"
   ]
  },
  {
   "cell_type": "markdown",
   "id": "ded2bd2b",
   "metadata": {},
   "source": [
    "Таким образом общее время выполнения квадратично зависит от объема входных данных."
   ]
  },
  {
   "cell_type": "markdown",
   "id": "64196d92",
   "metadata": {},
   "source": [
    "# 2.Сортировка слиянием\n",
    "\n",
    "1. Делим сортируемую последовательность из $n$ элементов на 2 последовательности, в каждой из которых будет $\\frac{n}{2}$ элементов.  \n",
    "2. Рекурсивно сортируем 2 получившихся последовательности посредством сортировки слиянием.  \n",
    "3. Соединяем 2 отсортированных последовательности для получения окончательного отсортированного ответа."
   ]
  },
  {
   "cell_type": "code",
   "execution_count": 2,
   "id": "a34d49f2",
   "metadata": {},
   "outputs": [
    {
     "data": {
      "text/plain": [
       "[0, 1, 2, 2, 3, 4, 5, 6, 7]"
      ]
     },
     "execution_count": 2,
     "metadata": {},
     "output_type": "execute_result"
    }
   ],
   "source": [
    "import operator\n",
    "from typing import Any, Callable\n",
    "\n",
    "def split(data: list[int]) -> (list[int], list[int]):\n",
    "    return (data[:len(data) // 2], data[len(data) // 2:])\n",
    "\n",
    "def merge(data1: list[int], data2: list[int], comparator: Callable = operator.lt) -> list[int]:\n",
    "    result: list[int] = []\n",
    "    i1, i2 = 0, 0\n",
    "    while (i1 < len(data1) or i2 < len(data2)):\n",
    "        if i1 < len(data1) and i2 < len(data2):\n",
    "            if comparator(data1[i1], data2[i2]):\n",
    "                result += [data1[i1]]\n",
    "                i1 += 1\n",
    "            else:\n",
    "                result += [data2[i2]]\n",
    "                i2 += 1\n",
    "        elif i1 < len(data1) and i2 >= len(data2):\n",
    "            result += [data1[i1]]\n",
    "            i1 += 1\n",
    "        elif i1 >= len(data1) and i2 < len(data2):\n",
    "            result += [data2[i2]]\n",
    "            i2 += 1\n",
    "        else:\n",
    "            pass\n",
    "    return result\n",
    "\n",
    "def sort_merge(data: list[int], comparator: Callable = operator.lt) -> list[int]:\n",
    "    if len(data) <= 2:\n",
    "        return merge(*split(data), comparator)\n",
    "    else:\n",
    "        data1, data2 = split(data)\n",
    "        data1 = sort_merge(data1, comparator)\n",
    "        data2 = sort_merge(data2, comparator)\n",
    "        return merge(data1, data2, comparator)\n",
    "\n",
    "data: list[int] = [2, 4, 5, 7, 1, 2, 3, 6, 0]\n",
    "sorted_data = sort_merge(data, operator.lt)\n",
    "sorted_data"
   ]
  },
  {
   "cell_type": "markdown",
   "id": "4312db6a",
   "metadata": {},
   "source": [
    "А коли мы теперь можем сортировать массивы, то можно реализовать и бинарный поиск. Сделаем это."
   ]
  },
  {
   "cell_type": "code",
   "execution_count": 3,
   "id": "fc0c283d",
   "metadata": {},
   "outputs": [],
   "source": [
    "def bin_search(data: list[int], element: int) -> int:\n",
    "    start_pos, end_pos = 0, len(data) - 1\n",
    "    while (start_pos != end_pos) and (data[start_pos] <= element <= data[end_pos]):\n",
    "        section = start_pos + (end_pos - start_pos) // 2\n",
    "        if (data[start_pos] < element) and (data[section] > element):\n",
    "            end_pos = section\n",
    "        elif (data[section] < element) and (data[end_pos] > element):\n",
    "            start_pos = section\n",
    "        else:\n",
    "            if data[start_pos] == element:\n",
    "                return start_pos\n",
    "            if data[end_pos] == element:\n",
    "                return end_pos\n",
    "            if data[section] == element:\n",
    "                return section\n",
    "    return None"
   ]
  },
  {
   "cell_type": "code",
   "execution_count": 4,
   "id": "a1c16a36",
   "metadata": {},
   "outputs": [
    {
     "name": "stdout",
     "output_type": "stream",
     "text": [
      "4\n",
      "0\n",
      "2\n",
      "8\n"
     ]
    }
   ],
   "source": [
    "print(bin_search(sorted_data, 3))\n",
    "print(bin_search(sorted_data, 0))\n",
    "print(bin_search(sorted_data, 2))\n",
    "print(bin_search(sorted_data, 7))"
   ]
  },
  {
   "cell_type": "markdown",
   "id": "17251a56",
   "metadata": {},
   "source": [
    "В сортировке слиянием сложность считается проще, чем в сортировке вставкой. По сути вся сортировка состоит из попеременно применяемых 2 шагов - разбиение массива пополам и соединение массивов с сортировкой. Число операций разбиения массива пополам зависит $log_2(n)$, а после каждого разбиения они соединяются, что в свою очередь линейно зависит от $n$. Таким образом $$T(n) = nlog_2(n)$$\n",
    "\n",
    "Теперь попробуем написать алгоритм, который получает на вход несортированный массив и какое-то число, после чего ищет 2 элемента этого массива, сумма которых равна поданному на вход числу. Требуемая сложность - $nlog_2(n)$. \n",
    "\n",
    "Можно конечно дважды попробовать перебрать все элементы массива и сравнить с искомым числом, но тогда сложность будет $n^2$. Если действовать более оптимально, то алгоритм следующий:\n",
    "\n",
    "1. Сортируем массив слиянием. \n",
    "2. Берем первый и последний элементы массива.\n",
    "3. Если их сумма равна искомому элементу, то вот и ответ.\n",
    "4. Если их сумма меньше искомого элемента, то ее надо увеличить, т.е. перешагнуть с первого элемента массива на следующий.\n",
    "5. Если их сумма больше искомого элемента, то ее надо уменьшить, т.е. перешагнуть с последнего элемента массива на предыдущий."
   ]
  },
  {
   "cell_type": "code",
   "execution_count": 10,
   "id": "3b771602",
   "metadata": {},
   "outputs": [
    {
     "data": {
      "text/plain": [
       "(0, 7)"
      ]
     },
     "execution_count": 10,
     "metadata": {},
     "output_type": "execute_result"
    }
   ],
   "source": [
    "def find_sum_components(data: list[int], sum_val: int) -> (int, int):\n",
    "    sorted_data = sort_merge(data)\n",
    "    i, j = 0, len(data) - 1\n",
    "    while i != j:\n",
    "        if (sorted_data[i] + sorted_data[j]) == sum_val:\n",
    "            return (sorted_data[i], sorted_data[j])\n",
    "        elif (sorted_data[i] + sorted_data[j]) < sum_val:\n",
    "            i += 1\n",
    "        else:\n",
    "            j -= 1\n",
    "    return None\n",
    "data: list[int] = [2, 4, 5, 7, 1, 2, 3, 6, 0]\n",
    "find_sum_components(data, 7)"
   ]
  },
  {
   "cell_type": "markdown",
   "id": "963a2dad",
   "metadata": {},
   "source": [
    "# 3.Сортировка пузырьком"
   ]
  },
  {
   "cell_type": "code",
   "execution_count": 17,
   "id": "15adda01",
   "metadata": {},
   "outputs": [],
   "source": [
    "def sort_bubble(data: list[int]) -> list[int]:\n",
    "    for i in range(len(data) - 1):\n",
    "        for j in range(i + 1, len(data)):\n",
    "            if data[i] >= data[j]:\n",
    "                data[i], data[j] = data[j], data[i]\n",
    "    return data"
   ]
  },
  {
   "cell_type": "code",
   "execution_count": 18,
   "id": "9b7d89d8",
   "metadata": {},
   "outputs": [
    {
     "data": {
      "text/plain": [
       "[0, 1, 2, 2, 3, 4, 5, 6, 7]"
      ]
     },
     "execution_count": 18,
     "metadata": {},
     "output_type": "execute_result"
    }
   ],
   "source": [
    "data: list[int] = [2, 4, 5, 7, 1, 2, 3, 6, 0]\n",
    "sort_bubble(data)"
   ]
  }
 ],
 "metadata": {
  "kernelspec": {
   "display_name": "Python 3 (ipykernel)",
   "language": "python",
   "name": "python3"
  },
  "language_info": {
   "codemirror_mode": {
    "name": "ipython",
    "version": 3
   },
   "file_extension": ".py",
   "mimetype": "text/x-python",
   "name": "python",
   "nbconvert_exporter": "python",
   "pygments_lexer": "ipython3",
   "version": "3.10.2"
  }
 },
 "nbformat": 4,
 "nbformat_minor": 5
}
